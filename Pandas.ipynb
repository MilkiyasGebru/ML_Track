{
  "nbformat": 4,
  "nbformat_minor": 0,
  "metadata": {
    "colab": {
      "provenance": []
    },
    "kernelspec": {
      "name": "python3",
      "display_name": "Python 3"
    },
    "language_info": {
      "name": "python"
    }
  },
  "cells": [
    {
      "cell_type": "code",
      "execution_count": null,
      "metadata": {
        "id": "IKWcsMF3Bwdr"
      },
      "outputs": [],
      "source": [
        "import pandas as pd\n"
      ]
    },
    {
      "cell_type": "code",
      "source": [
        "data_frame = pd.read_csv(\"/imdb_top_1000.csv\")"
      ],
      "metadata": {
        "id": "PMThGBViF6ln"
      },
      "execution_count": null,
      "outputs": []
    },
    {
      "cell_type": "code",
      "source": [
        "column_names = data_frame.columns"
      ],
      "metadata": {
        "id": "c8jBPjZ-HiOb"
      },
      "execution_count": null,
      "outputs": []
    },
    {
      "cell_type": "code",
      "source": [
        "print(column_names)"
      ],
      "metadata": {
        "colab": {
          "base_uri": "https://localhost:8080/"
        },
        "id": "KCQPw-9YH-Zs",
        "outputId": "db8eb2a7-e4a6-46e6-abe3-f69c748b9808"
      },
      "execution_count": null,
      "outputs": [
        {
          "output_type": "stream",
          "name": "stdout",
          "text": [
            "Index(['Poster_Link', 'Series_Title', 'Released_Year', 'Certificate',\n",
            "       'Runtime', 'Genre', 'IMDB_Rating', 'Overview', 'Meta_score', 'Director',\n",
            "       'Star1', 'Star2', 'Star3', 'Star4', 'No_of_Votes', 'Gross'],\n",
            "      dtype='object')\n"
          ]
        }
      ]
    },
    {
      "cell_type": "code",
      "source": [
        "print(data_frame[\"IMDB_Rating\"])"
      ],
      "metadata": {
        "colab": {
          "base_uri": "https://localhost:8080/"
        },
        "id": "gEljCvAKIBNG",
        "outputId": "36ce2557-f99f-4753-cc28-07fef54d7974"
      },
      "execution_count": null,
      "outputs": [
        {
          "output_type": "stream",
          "name": "stdout",
          "text": [
            "0      9.3\n",
            "1      9.2\n",
            "2      9.0\n",
            "3      9.0\n",
            "4      9.0\n",
            "      ... \n",
            "995    7.6\n",
            "996    7.6\n",
            "997    7.6\n",
            "998    7.6\n",
            "999    7.6\n",
            "Name: IMDB_Rating, Length: 1000, dtype: float64\n"
          ]
        }
      ]
    },
    {
      "cell_type": "code",
      "source": [
        "average_rating = data_frame[\"IMDB_Rating\"].mean()"
      ],
      "metadata": {
        "id": "LsPIdi2cKa3c"
      },
      "execution_count": 12,
      "outputs": []
    },
    {
      "cell_type": "code",
      "source": [
        "print(\"The average_rating is \",average_rating)"
      ],
      "metadata": {
        "colab": {
          "base_uri": "https://localhost:8080/"
        },
        "id": "Vhq79syYK_eD",
        "outputId": "9faf3428-f9ca-4602-d779-5b2734426cbc"
      },
      "execution_count": 14,
      "outputs": [
        {
          "output_type": "stream",
          "name": "stdout",
          "text": [
            "The average_rating is  7.949299999999999\n"
          ]
        }
      ]
    },
    {
      "cell_type": "code",
      "source": [
        "unique_genres = data_frame[\"Genre\"].nunique()"
      ],
      "metadata": {
        "id": "JjXVUwr9LMR7"
      },
      "execution_count": 15,
      "outputs": []
    },
    {
      "cell_type": "code",
      "source": [
        "print(\"The number of unique genres is \",unique_genres)"
      ],
      "metadata": {
        "colab": {
          "base_uri": "https://localhost:8080/"
        },
        "id": "YwZ48UtMLV_n",
        "outputId": "fca8cdde-c7e9-4eb2-def4-51d96e0d7a05"
      },
      "execution_count": 16,
      "outputs": [
        {
          "output_type": "stream",
          "name": "stdout",
          "text": [
            "The number of unique genres is  202\n"
          ]
        }
      ]
    },
    {
      "cell_type": "code",
      "source": [
        "results = {\"column_names\":column_names, \"average_rating\":average_rating, \"unique_genres\":unique_genres}"
      ],
      "metadata": {
        "id": "t8AfHw8ALmSy"
      },
      "execution_count": 17,
      "outputs": []
    },
    {
      "cell_type": "code",
      "source": [
        "result_frame = pd.DataFrame.from_dict(results)"
      ],
      "metadata": {
        "id": "Eq0Pz6l4MFHY"
      },
      "execution_count": 18,
      "outputs": []
    },
    {
      "cell_type": "code",
      "source": [
        "result_frame.to_csv(\"results.csv\")"
      ],
      "metadata": {
        "id": "yLIzHiagMOTj"
      },
      "execution_count": 19,
      "outputs": []
    }
  ]
}