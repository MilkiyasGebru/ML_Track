{
  "cells": [
    {
      "cell_type": "markdown",
      "id": "70d68298",
      "metadata": {
        "id": "70d68298"
      },
      "source": [
        "# Checkpoints"
      ]
    },
    {
      "cell_type": "markdown",
      "id": "67d0260a",
      "metadata": {
        "id": "67d0260a"
      },
      "source": [
        "**CP1**:\n",
        "Given the list $[A, B, C]$, use the `itertools` module to generate all possible\n",
        "combinations of 2 elements.\n",
        "\n",
        "**Expected Output**:\n",
        "$$\n",
        " (A, B) \\\\\n",
        " (A, C) \\\\\n",
        " (B, C)\n",
        "$$"
      ]
    },
    {
      "cell_type": "code",
      "execution_count": 1,
      "id": "9dd63d67",
      "metadata": {
        "id": "9dd63d67",
        "colab": {
          "base_uri": "https://localhost:8080/"
        },
        "outputId": "6b802f5c-122d-4f83-ecf6-2ae8e0bada7e"
      },
      "outputs": [
        {
          "output_type": "stream",
          "name": "stdout",
          "text": [
            "('A', 'B')\n",
            "('A', 'C')\n",
            "('B', 'C')\n"
          ]
        }
      ],
      "source": [
        "import itertools\n",
        "elements = [\"A\",\"B\",\"C\"]\n",
        "combinations = itertools.combinations(elements,2)\n",
        "for combination in combinations:\n",
        "  print(combination)"
      ]
    },
    {
      "cell_type": "markdown",
      "id": "31c15dce",
      "metadata": {
        "id": "31c15dce"
      },
      "source": [
        "**CP2**:\n",
        "Use the `itertools` module to create a sequence that cycles through\n",
        "['Python', 'is', 'fun'] infinitely. Print the first 10 elements of the sequence.\n",
        "\n",
        "**Expected Output**:\n",
        "$$\n",
        "Python \\\\\n",
        "is\\\\\n",
        "fun\\\\\n",
        "Python\\\\\n",
        "is\\\\\n",
        "fun\\\\\n",
        "Python\\\\\n",
        "is\\\\\n",
        "fun\\\\\n",
        "Python\n",
        "$$"
      ]
    },
    {
      "cell_type": "code",
      "execution_count": 2,
      "id": "c75f246c",
      "metadata": {
        "id": "c75f246c",
        "colab": {
          "base_uri": "https://localhost:8080/"
        },
        "outputId": "7a933bc4-9e98-4cb8-fe81-5f71d4f0e0e7"
      },
      "outputs": [
        {
          "output_type": "stream",
          "name": "stdout",
          "text": [
            "Python\n",
            "is\n",
            "fun\n",
            "Python\n",
            "is\n",
            "fun\n",
            "Python\n",
            "is\n",
            "fun\n",
            "Python\n"
          ]
        }
      ],
      "source": [
        "elements = [\"Python\", \"is\" ,\"fun\"]\n",
        "cycle= itertools.cycle(elements)\n",
        "for i in range(10):\n",
        "  print(next(cycle))"
      ]
    },
    {
      "cell_type": "markdown",
      "id": "cbef0f63",
      "metadata": {
        "id": "cbef0f63"
      },
      "source": [
        "**CP3**:\n",
        "Use the `glob` module to list all python (.py) files in your current working directory.\n",
        "\n",
        "\n"
      ]
    },
    {
      "cell_type": "code",
      "execution_count": 3,
      "id": "3e62d5b4",
      "metadata": {
        "id": "3e62d5b4",
        "colab": {
          "base_uri": "https://localhost:8080/"
        },
        "outputId": "cba9af5d-b339-4d41-ce0d-cd26af175bb8"
      },
      "outputs": [
        {
          "output_type": "stream",
          "name": "stdout",
          "text": [
            "[]\n"
          ]
        }
      ],
      "source": [
        "import glob\n",
        "print(glob.glob(\"*py\"))"
      ]
    },
    {
      "cell_type": "markdown",
      "id": "d266d698",
      "metadata": {
        "id": "d266d698"
      },
      "source": [
        "**CP4**: You are given the following HTML content below. Write a function that uses BeautifulSoup to parse the HTML and extract the text inside the   '$<p>$'   tag.\n"
      ]
    },
    {
      "cell_type": "code",
      "execution_count": null,
      "id": "27f941c8",
      "metadata": {
        "id": "27f941c8"
      },
      "outputs": [],
      "source": [
        "#<html><body><div class='main'><h1>Welcome to AI</h1><p>AI is transforming the world</p></div></body></html>"
      ]
    },
    {
      "cell_type": "code",
      "execution_count": 6,
      "id": "6fb1cdcf",
      "metadata": {
        "id": "6fb1cdcf",
        "colab": {
          "base_uri": "https://localhost:8080/"
        },
        "outputId": "099b59e6-7de6-4616-9a03-1ef06bff8da2"
      },
      "outputs": [
        {
          "output_type": "stream",
          "name": "stdout",
          "text": [
            "AI is transforming the world\n"
          ]
        }
      ],
      "source": [
        "from bs4 import BeautifulSoup\n",
        "soup = BeautifulSoup('''<html><body><div class='main'><h1>Welcome to AI</h1><p>AI is transforming the world</p></div></body></html>''', 'html.parser')\n",
        "print(soup.p.string)"
      ]
    },
    {
      "cell_type": "markdown",
      "id": "a1fce3ef",
      "metadata": {
        "id": "a1fce3ef"
      },
      "source": [
        "**CP5**: Write a function that uses the re module to replace all occurrences of the word \"AI\" with \"Artificial Intelligence\" in a given text."
      ]
    },
    {
      "cell_type": "code",
      "execution_count": 8,
      "id": "07178a2d",
      "metadata": {
        "id": "07178a2d",
        "colab": {
          "base_uri": "https://localhost:8080/"
        },
        "outputId": "00c83641-98f2-4504-85de-3bd05ca20d09"
      },
      "outputs": [
        {
          "output_type": "stream",
          "name": "stdout",
          "text": [
            "Artificial Intelligence is transforming the world\n"
          ]
        }
      ],
      "source": [
        "import re\n",
        "input_string = \"AI is transforming the world\"\n",
        "output_string = re.sub(r'AI', \"Artificial Intelligence\", input_string)\n",
        "print(output_string)"
      ]
    },
    {
      "cell_type": "markdown",
      "id": "4e471de6",
      "metadata": {
        "id": "4e471de6"
      },
      "source": [
        "**CP6**: Create a numpy array of 10 zeros."
      ]
    },
    {
      "cell_type": "code",
      "execution_count": 7,
      "id": "7f6e9acb",
      "metadata": {
        "id": "7f6e9acb",
        "colab": {
          "base_uri": "https://localhost:8080/"
        },
        "outputId": "158deacc-60e3-4547-a66e-853a5ce27e0a"
      },
      "outputs": [
        {
          "output_type": "stream",
          "name": "stdout",
          "text": [
            "[0. 0. 0. 0. 0. 0. 0. 0. 0. 0.]\n"
          ]
        }
      ],
      "source": [
        "import numpy as np\n",
        "numpy_array = np.zeros(10)\n",
        "print(numpy_array)"
      ]
    },
    {
      "cell_type": "markdown",
      "id": "5f52a63e",
      "metadata": {
        "id": "5f52a63e"
      },
      "source": [
        "**CP7** Create a numpy array of the integers from 10 to 49."
      ]
    },
    {
      "cell_type": "code",
      "execution_count": 11,
      "id": "ddb01e9a",
      "metadata": {
        "id": "ddb01e9a",
        "colab": {
          "base_uri": "https://localhost:8080/"
        },
        "outputId": "c1e97a83-b317-4ddc-f03c-017898e5ccb0"
      },
      "outputs": [
        {
          "output_type": "stream",
          "name": "stdout",
          "text": [
            "[10 11 12 13 14 15 16 17 18 19 20 21 22 23 24 25 26 27 28 29 30 31 32 33\n",
            " 34 35 36 37 38 39 40 41 42 43 44 45 46 47 48 49]\n"
          ]
        }
      ],
      "source": [
        "numpy_array = np.arange(10,50)\n",
        "print(numpy_array)"
      ]
    },
    {
      "cell_type": "markdown",
      "id": "79e4d614",
      "metadata": {
        "id": "79e4d614"
      },
      "source": [
        "**CP8**: Create a 3x3 numpy matrix, filled with values ranging from 0 to 8."
      ]
    },
    {
      "cell_type": "code",
      "execution_count": 12,
      "id": "d3eddea4",
      "metadata": {
        "id": "d3eddea4",
        "colab": {
          "base_uri": "https://localhost:8080/"
        },
        "outputId": "e49cbf37-6b68-4d16-9d32-58f2c20b8c28"
      },
      "outputs": [
        {
          "output_type": "stream",
          "name": "stdout",
          "text": [
            "[[0 1 2]\n",
            " [3 4 5]\n",
            " [6 7 8]]\n"
          ]
        }
      ],
      "source": [
        "numpy_array = np.arange(0,9)\n",
        "numpy_matrix = numpy_array.reshape(3,3)\n",
        "print(numpy_matrix)"
      ]
    },
    {
      "cell_type": "markdown",
      "id": "1b09270f",
      "metadata": {
        "id": "1b09270f"
      },
      "source": [
        "**CP9**: Explain why machine learning models require large amounts of data? What does it mean for an amount of data to be **large**?"
      ]
    },
    {
      "cell_type": "code",
      "execution_count": 14,
      "id": "a57e9726",
      "metadata": {
        "id": "a57e9726",
        "colab": {
          "base_uri": "https://localhost:8080/"
        },
        "outputId": "07b1ca21-ef66-4b67-a473-327796f91ebd"
      },
      "outputs": [
        {
          "output_type": "stream",
          "name": "stdout",
          "text": [
            "Large amounts of data are required to improve their generization, to reduce bias and to learn robust feature representation\n",
            "Large data is a sufficient of data for which a model can learn about a specfic task\n"
          ]
        }
      ],
      "source": [
        "print(\"Large amounts of data are required to improve their generization, to reduce bias and to learn robust feature representation\")\n",
        "print(\"Large data is a sufficient of data for which a model can learn about a specfic task\")"
      ]
    },
    {
      "cell_type": "markdown",
      "id": "1a357bde",
      "metadata": {
        "id": "1a357bde"
      },
      "source": [
        "**CP10**: Explain 2 ways AI can be used in an adverserial way, and what can be done to prevent it."
      ]
    },
    {
      "cell_type": "code",
      "execution_count": 16,
      "id": "a9db70af",
      "metadata": {
        "id": "a9db70af",
        "colab": {
          "base_uri": "https://localhost:8080/"
        },
        "outputId": "43d225a3-6a0a-400d-ae82-c3dfaa0b4410"
      },
      "outputs": [
        {
          "output_type": "stream",
          "name": "stdout",
          "text": [
            "The first one is  Adverserial Attacks on AI Models in which a malicous attackers can distort or manipulate an input data to mislead a models predictions\n",
            "The second one is AI Powered Misinformation and Manipulation in which an AI is used to create and spread misinformation\n",
            "We can prevent this by using : fact checking, by building a robuse and secure models and so on\n"
          ]
        }
      ],
      "source": [
        "print(\"The first one is  Adverserial Attacks on AI Models in which a malicous attackers can distort or manipulate an input data to mislead a models predictions\")\n",
        "print(\"The second one is AI Powered Misinformation and Manipulation in which an AI is used to create and spread misinformation\")\n",
        "print(\"We can prevent this by using : fact checking, by building a robuse and secure models and so on\")"
      ]
    }
  ],
  "metadata": {
    "kernelspec": {
      "display_name": "Python 3 (ipykernel)",
      "language": "python",
      "name": "python3"
    },
    "language_info": {
      "codemirror_mode": {
        "name": "ipython",
        "version": 3
      },
      "file_extension": ".py",
      "mimetype": "text/x-python",
      "name": "python",
      "nbconvert_exporter": "python",
      "pygments_lexer": "ipython3",
      "version": "3.8.2"
    },
    "varInspector": {
      "cols": {
        "lenName": 16,
        "lenType": 16,
        "lenVar": 40
      },
      "kernels_config": {
        "python": {
          "delete_cmd_postfix": "",
          "delete_cmd_prefix": "del ",
          "library": "var_list.py",
          "varRefreshCmd": "print(var_dic_list())"
        },
        "r": {
          "delete_cmd_postfix": ") ",
          "delete_cmd_prefix": "rm(",
          "library": "var_list.r",
          "varRefreshCmd": "cat(var_dic_list()) "
        }
      },
      "types_to_exclude": [
        "module",
        "function",
        "builtin_function_or_method",
        "instance",
        "_Feature"
      ],
      "window_display": false
    },
    "colab": {
      "provenance": []
    }
  },
  "nbformat": 4,
  "nbformat_minor": 5
}